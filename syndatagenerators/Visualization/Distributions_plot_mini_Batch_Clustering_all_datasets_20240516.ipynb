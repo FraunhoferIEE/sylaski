{
 "cells": [
  {
   "cell_type": "code",
   "execution_count": 1,
   "metadata": {},
   "outputs": [
    {
     "name": "stderr",
     "output_type": "stream",
     "text": [
      "c:\\Users\\P\\anaconda3\\envs\\SYLAS\\lib\\site-packages\\scipy\\__init__.py:146: UserWarning: A NumPy version >=1.16.5 and <1.23.0 is required for this version of SciPy (detected version 1.26.4\n",
      "  warnings.warn(f\"A NumPy version >={np_minversion} and <{np_maxversion}\"\n"
     ]
    }
   ],
   "source": [
    "import os\n",
    "\n",
    "import pandas as pd\n",
    "import numpy as np\n",
    "\n",
    "import matplotlib.pyplot as plt\n",
    "import seaborn as sns\n",
    "\n",
    "from scipy.stats import ks_2samp\n",
    "from matplotlib.ticker import AutoMinorLocator, MultipleLocator"
   ]
  },
  {
   "cell_type": "code",
   "execution_count": 2,
   "metadata": {},
   "outputs": [],
   "source": [
    "folder_path = 'D:\\\\LSM_data_set\\\\'\n",
    "\n",
    "file_name1 = 'Distribution_clusters_selfclassification_OM_synDDPM_synWGAN.csv'; result = pd.read_csv(os.path.join(folder_path, file_name1))\n"
   ]
  },
  {
   "cell_type": "code",
   "execution_count": 3,
   "metadata": {},
   "outputs": [],
   "source": [
    "mapping = {\n",
    "    'df_ddpm_count': 'synDDPM',\n",
    "    'df_cGAN_count': 'synWGAN',\n",
    "    'df_orig_count': 'original OM'   \n",
    "}\n",
    "\n",
    "result.columns = result.columns.to_series().replace(mapping).tolist()\n"
   ]
  },
  {
   "cell_type": "code",
   "execution_count": 4,
   "metadata": {},
   "outputs": [
    {
     "data": {
      "text/html": [
       "<div>\n",
       "<style scoped>\n",
       "    .dataframe tbody tr th:only-of-type {\n",
       "        vertical-align: middle;\n",
       "    }\n",
       "\n",
       "    .dataframe tbody tr th {\n",
       "        vertical-align: top;\n",
       "    }\n",
       "\n",
       "    .dataframe thead th {\n",
       "        text-align: right;\n",
       "    }\n",
       "</style>\n",
       "<table border=\"1\" class=\"dataframe\">\n",
       "  <thead>\n",
       "    <tr style=\"text-align: right;\">\n",
       "      <th></th>\n",
       "      <th>Cluster</th>\n",
       "      <th>synDDPM</th>\n",
       "      <th>synWGAN</th>\n",
       "      <th>original OM</th>\n",
       "    </tr>\n",
       "  </thead>\n",
       "  <tbody>\n",
       "    <tr>\n",
       "      <th>0</th>\n",
       "      <td>8</td>\n",
       "      <td>9152390</td>\n",
       "      <td>3026836</td>\n",
       "      <td>4495014</td>\n",
       "    </tr>\n",
       "    <tr>\n",
       "      <th>1</th>\n",
       "      <td>1</td>\n",
       "      <td>4095908</td>\n",
       "      <td>6637393</td>\n",
       "      <td>13324224</td>\n",
       "    </tr>\n",
       "    <tr>\n",
       "      <th>2</th>\n",
       "      <td>7</td>\n",
       "      <td>4026311</td>\n",
       "      <td>4917169</td>\n",
       "      <td>9881845</td>\n",
       "    </tr>\n",
       "    <tr>\n",
       "      <th>3</th>\n",
       "      <td>0</td>\n",
       "      <td>3551777</td>\n",
       "      <td>5347374</td>\n",
       "      <td>10957716</td>\n",
       "    </tr>\n",
       "    <tr>\n",
       "      <th>4</th>\n",
       "      <td>3</td>\n",
       "      <td>3304422</td>\n",
       "      <td>182174</td>\n",
       "      <td>2619965</td>\n",
       "    </tr>\n",
       "    <tr>\n",
       "      <th>5</th>\n",
       "      <td>9</td>\n",
       "      <td>2522761</td>\n",
       "      <td>3878927</td>\n",
       "      <td>7980394</td>\n",
       "    </tr>\n",
       "    <tr>\n",
       "      <th>6</th>\n",
       "      <td>6</td>\n",
       "      <td>2304621</td>\n",
       "      <td>2976412</td>\n",
       "      <td>187585</td>\n",
       "    </tr>\n",
       "    <tr>\n",
       "      <th>7</th>\n",
       "      <td>2</td>\n",
       "      <td>1162805</td>\n",
       "      <td>3310886</td>\n",
       "      <td>789969</td>\n",
       "    </tr>\n",
       "    <tr>\n",
       "      <th>8</th>\n",
       "      <td>5</td>\n",
       "      <td>1160155</td>\n",
       "      <td>1349526</td>\n",
       "      <td>4093220</td>\n",
       "    </tr>\n",
       "    <tr>\n",
       "      <th>9</th>\n",
       "      <td>4</td>\n",
       "      <td>157697</td>\n",
       "      <td>7057462</td>\n",
       "      <td>15023125</td>\n",
       "    </tr>\n",
       "  </tbody>\n",
       "</table>\n",
       "</div>"
      ],
      "text/plain": [
       "   Cluster  synDDPM  synWGAN  original OM\n",
       "0        8  9152390  3026836      4495014\n",
       "1        1  4095908  6637393     13324224\n",
       "2        7  4026311  4917169      9881845\n",
       "3        0  3551777  5347374     10957716\n",
       "4        3  3304422   182174      2619965\n",
       "5        9  2522761  3878927      7980394\n",
       "6        6  2304621  2976412       187585\n",
       "7        2  1162805  3310886       789969\n",
       "8        5  1160155  1349526      4093220\n",
       "9        4   157697  7057462     15023125"
      ]
     },
     "execution_count": 4,
     "metadata": {},
     "output_type": "execute_result"
    }
   ],
   "source": [
    "result"
   ]
  },
  {
   "cell_type": "code",
   "execution_count": 5,
   "metadata": {},
   "outputs": [],
   "source": [
    "\n",
    "column_sums = result.sum(axis=0)  # Sum of each column\n",
    "normalized_result = (result.div(column_sums, axis=1)) * 100  # Divide each column by its sum\n",
    "\n",
    "# Print the resulting DataFrame\n",
    "# print(normalized_result)"
   ]
  },
  {
   "cell_type": "code",
   "execution_count": 6,
   "metadata": {},
   "outputs": [],
   "source": [
    "normalized_result = normalized_result.iloc[:, 1:].copy()"
   ]
  },
  {
   "cell_type": "code",
   "execution_count": 7,
   "metadata": {},
   "outputs": [
    {
     "data": {
      "text/html": [
       "<div>\n",
       "<style scoped>\n",
       "    .dataframe tbody tr th:only-of-type {\n",
       "        vertical-align: middle;\n",
       "    }\n",
       "\n",
       "    .dataframe tbody tr th {\n",
       "        vertical-align: top;\n",
       "    }\n",
       "\n",
       "    .dataframe thead th {\n",
       "        text-align: right;\n",
       "    }\n",
       "</style>\n",
       "<table border=\"1\" class=\"dataframe\">\n",
       "  <thead>\n",
       "    <tr style=\"text-align: right;\">\n",
       "      <th></th>\n",
       "      <th>synDDPM</th>\n",
       "      <th>synWGAN</th>\n",
       "      <th>original OM</th>\n",
       "    </tr>\n",
       "  </thead>\n",
       "  <tbody>\n",
       "    <tr>\n",
       "      <th>0</th>\n",
       "      <td>29.111723</td>\n",
       "      <td>7.824484</td>\n",
       "      <td>6.481349</td>\n",
       "    </tr>\n",
       "    <tr>\n",
       "      <th>1</th>\n",
       "      <td>13.028175</td>\n",
       "      <td>17.157910</td>\n",
       "      <td>19.212165</td>\n",
       "    </tr>\n",
       "    <tr>\n",
       "      <th>2</th>\n",
       "      <td>12.806802</td>\n",
       "      <td>12.711066</td>\n",
       "      <td>14.248608</td>\n",
       "    </tr>\n",
       "    <tr>\n",
       "      <th>3</th>\n",
       "      <td>11.297415</td>\n",
       "      <td>13.823162</td>\n",
       "      <td>15.799903</td>\n",
       "    </tr>\n",
       "    <tr>\n",
       "      <th>4</th>\n",
       "      <td>10.510634</td>\n",
       "      <td>0.470927</td>\n",
       "      <td>3.777721</td>\n",
       "    </tr>\n",
       "    <tr>\n",
       "      <th>5</th>\n",
       "      <td>8.024343</td>\n",
       "      <td>10.027172</td>\n",
       "      <td>11.506910</td>\n",
       "    </tr>\n",
       "    <tr>\n",
       "      <th>6</th>\n",
       "      <td>7.330488</td>\n",
       "      <td>7.694137</td>\n",
       "      <td>0.270478</td>\n",
       "    </tr>\n",
       "    <tr>\n",
       "      <th>7</th>\n",
       "      <td>3.698625</td>\n",
       "      <td>8.558764</td>\n",
       "      <td>1.139054</td>\n",
       "    </tr>\n",
       "    <tr>\n",
       "      <th>8</th>\n",
       "      <td>3.690196</td>\n",
       "      <td>3.488575</td>\n",
       "      <td>5.902004</td>\n",
       "    </tr>\n",
       "    <tr>\n",
       "      <th>9</th>\n",
       "      <td>0.501599</td>\n",
       "      <td>18.243804</td>\n",
       "      <td>21.661806</td>\n",
       "    </tr>\n",
       "  </tbody>\n",
       "</table>\n",
       "</div>"
      ],
      "text/plain": [
       "     synDDPM    synWGAN  original OM\n",
       "0  29.111723   7.824484     6.481349\n",
       "1  13.028175  17.157910    19.212165\n",
       "2  12.806802  12.711066    14.248608\n",
       "3  11.297415  13.823162    15.799903\n",
       "4  10.510634   0.470927     3.777721\n",
       "5   8.024343  10.027172    11.506910\n",
       "6   7.330488   7.694137     0.270478\n",
       "7   3.698625   8.558764     1.139054\n",
       "8   3.690196   3.488575     5.902004\n",
       "9   0.501599  18.243804    21.661806"
      ]
     },
     "execution_count": 7,
     "metadata": {},
     "output_type": "execute_result"
    }
   ],
   "source": [
    "normalized_result"
   ]
  },
  {
   "cell_type": "code",
   "execution_count": 8,
   "metadata": {},
   "outputs": [],
   "source": [
    "#normalized_result.sum()"
   ]
  },
  {
   "cell_type": "code",
   "execution_count": 9,
   "metadata": {},
   "outputs": [],
   "source": [
    "normalized_result = normalized_result.sort_index()\n",
    "\n",
    "result_df_transposed = normalized_result.T"
   ]
  },
  {
   "cell_type": "code",
   "execution_count": 10,
   "metadata": {},
   "outputs": [
    {
     "data": {
      "image/png": "[encoded data removed]",
      "text/plain": [
       "<Figure size 648x396 with 1 Axes>"
      ]
     },
     "metadata": {
      "needs_background": "light"
     },
     "output_type": "display_data"
    }
   ],
   "source": [
    "\n",
    "viridis = plt.cm.viridis\n",
    "\n",
    "# Assuming result_df_transposed is your DataFrame\n",
    "# Plot the stacked bar chart\n",
    "ax = result_df_transposed.plot(kind='bar', stacked=True, figsize=(9, 5.5), colormap=viridis, edgecolor='black', linewidth=0.2)\n",
    "\n",
    "# Set labels and title\n",
    "ax.set_ylabel('relative Häufigkeit (%)', fontsize=20)  # Bigger font on y-axis label\n",
    "ax.set_title('Prozentuale Verteilung von Zuständen', fontsize=26)  # Bigger title\n",
    "\n",
    "# Customize legend\n",
    "ax.legend(title='Verbrauchs-\\nzustand', bbox_to_anchor=(1.05, 1), loc='upper left', fontsize=15, title_fontsize=15)\n",
    "\n",
    "# Rotate x-axis labels for better readability\n",
    "plt.xticks(rotation=0, ha='center', fontsize=20, fontweight='medium')\n",
    "\n",
    "# Set y-axis major ticks at intervals of 50 with minor ticks at intervals of 25\n",
    "ax.yaxis.set_major_locator(plt.MultipleLocator(50))\n",
    "ax.yaxis.set_minor_locator(plt.MultipleLocator(25))\n",
    "ax.tick_params(axis='y', labelsize=16)  # Bigger font on y-axis tick labels\n",
    "\n",
    "plt.ylim(0, 101)\n",
    "\n",
    "\n",
    "# Change the thickness of the spines\n",
    "ax.spines['top'].set_linewidth(1.5)    # Top spine\n",
    "ax.spines['right'].set_linewidth(1.5)  # Right spine\n",
    "ax.spines['bottom'].set_linewidth(1.5) # Bottom spine\n",
    "ax.spines['left'].set_linewidth(1.5)   # Left spine\n",
    "\n",
    "# Show the plot\n",
    "plt.tight_layout()\n",
    "plt.show()\n"
   ]
  },
  {
   "cell_type": "code",
   "execution_count": 27,
   "metadata": {},
   "outputs": [],
   "source": [
    "reference_distribution = 'original OM'"
   ]
  },
  {
   "cell_type": "code",
   "execution_count": 31,
   "metadata": {},
   "outputs": [
    {
     "data": {
      "text/html": [
       "<div>\n",
       "<style scoped>\n",
       "    .dataframe tbody tr th:only-of-type {\n",
       "        vertical-align: middle;\n",
       "    }\n",
       "\n",
       "    .dataframe tbody tr th {\n",
       "        vertical-align: top;\n",
       "    }\n",
       "\n",
       "    .dataframe thead th {\n",
       "        text-align: right;\n",
       "    }\n",
       "</style>\n",
       "<table border=\"1\" class=\"dataframe\">\n",
       "  <thead>\n",
       "    <tr style=\"text-align: right;\">\n",
       "      <th></th>\n",
       "      <th>Cluster</th>\n",
       "      <th>synDDPM</th>\n",
       "      <th>synWGAN</th>\n",
       "      <th>original OM</th>\n",
       "    </tr>\n",
       "  </thead>\n",
       "  <tbody>\n",
       "    <tr>\n",
       "      <th>0</th>\n",
       "      <td>8</td>\n",
       "      <td>9152390</td>\n",
       "      <td>3026836</td>\n",
       "      <td>4495014</td>\n",
       "    </tr>\n",
       "    <tr>\n",
       "      <th>1</th>\n",
       "      <td>1</td>\n",
       "      <td>4095908</td>\n",
       "      <td>6637393</td>\n",
       "      <td>13324224</td>\n",
       "    </tr>\n",
       "    <tr>\n",
       "      <th>2</th>\n",
       "      <td>7</td>\n",
       "      <td>4026311</td>\n",
       "      <td>4917169</td>\n",
       "      <td>9881845</td>\n",
       "    </tr>\n",
       "    <tr>\n",
       "      <th>3</th>\n",
       "      <td>0</td>\n",
       "      <td>3551777</td>\n",
       "      <td>5347374</td>\n",
       "      <td>10957716</td>\n",
       "    </tr>\n",
       "    <tr>\n",
       "      <th>4</th>\n",
       "      <td>3</td>\n",
       "      <td>3304422</td>\n",
       "      <td>182174</td>\n",
       "      <td>2619965</td>\n",
       "    </tr>\n",
       "    <tr>\n",
       "      <th>5</th>\n",
       "      <td>9</td>\n",
       "      <td>2522761</td>\n",
       "      <td>3878927</td>\n",
       "      <td>7980394</td>\n",
       "    </tr>\n",
       "    <tr>\n",
       "      <th>6</th>\n",
       "      <td>6</td>\n",
       "      <td>2304621</td>\n",
       "      <td>2976412</td>\n",
       "      <td>187585</td>\n",
       "    </tr>\n",
       "    <tr>\n",
       "      <th>7</th>\n",
       "      <td>2</td>\n",
       "      <td>1162805</td>\n",
       "      <td>3310886</td>\n",
       "      <td>789969</td>\n",
       "    </tr>\n",
       "    <tr>\n",
       "      <th>8</th>\n",
       "      <td>5</td>\n",
       "      <td>1160155</td>\n",
       "      <td>1349526</td>\n",
       "      <td>4093220</td>\n",
       "    </tr>\n",
       "    <tr>\n",
       "      <th>9</th>\n",
       "      <td>4</td>\n",
       "      <td>157697</td>\n",
       "      <td>7057462</td>\n",
       "      <td>15023125</td>\n",
       "    </tr>\n",
       "  </tbody>\n",
       "</table>\n",
       "</div>"
      ],
      "text/plain": [
       "   Cluster  synDDPM  synWGAN  original OM\n",
       "0        8  9152390  3026836      4495014\n",
       "1        1  4095908  6637393     13324224\n",
       "2        7  4026311  4917169      9881845\n",
       "3        0  3551777  5347374     10957716\n",
       "4        3  3304422   182174      2619965\n",
       "5        9  2522761  3878927      7980394\n",
       "6        6  2304621  2976412       187585\n",
       "7        2  1162805  3310886       789969\n",
       "8        5  1160155  1349526      4093220\n",
       "9        4   157697  7057462     15023125"
      ]
     },
     "execution_count": 31,
     "metadata": {},
     "output_type": "execute_result"
    }
   ],
   "source": [
    "result"
   ]
  },
  {
   "cell_type": "code",
   "execution_count": 44,
   "metadata": {},
   "outputs": [],
   "source": [
    "reference_distribution = result['original OM']"
   ]
  },
  {
   "cell_type": "code",
   "execution_count": 45,
   "metadata": {},
   "outputs": [
    {
     "data": {
      "image/png": "[encoded data removed]",
      "text/plain": [
       "<Figure size 1080x273.6 with 4 Axes>"
      ]
     },
     "metadata": {
      "needs_background": "light"
     },
     "output_type": "display_data"
    }
   ],
   "source": [
    "def plot_histograms_for_each_column(df, cluster_column, weight_column, color_list):\n",
    "    num_columns = len(df.columns)\n",
    "    fig, axes = plt.subplots(nrows=1, ncols=num_columns, figsize=(15, 3.8))\n",
    "    \n",
    "    for i, column in enumerate(df.columns):\n",
    "        sns.histplot(x=df[cluster_column], weights=df[column], discrete=True,\n",
    "                     color=color_list[i], edgecolor=color_list[i],\n",
    "                     kde=True, kde_kws={'cut': 0.5}, line_kws={'linewidth':3},\n",
    "                     ax=axes[i])\n",
    "        axes[i].set_title(column, fontsize=20, color=color_list[i], fontweight='bold')\n",
    "        axes[i].set_ylabel('absolute Häufigkeit', fontsize=17)\n",
    "        axes[i].set_ylim(0,1.6E7)\n",
    "        \n",
    "        # Set font sizes for labels\n",
    "        axes[i].tick_params(axis='x', labelsize=15)\n",
    "        axes[i].tick_params(axis='y', labelsize=15)\n",
    "        axes[i].set_xlabel('Verbrauchszustand', fontsize=17)  # Change 'Your X Label' as needed\n",
    "        \n",
    "        # Perform KS test\n",
    "        ks_statistic, p_value = ks_2samp(df[column], reference_distribution)\n",
    "        axes[i].text(0.5, 0.9, f'KS Statistic: {ks_statistic:.2f}\\nP-value: {p_value:.4f}',\n",
    "                     horizontalalignment='left', verticalalignment='center',\n",
    "                     transform=axes[i].transAxes)    \n",
    "    \n",
    "    plt.tight_layout()\n",
    "    plt.show()\n",
    "\n",
    "# Define your color list\n",
    "color_list = ['tab:blue', '#d55e00', '#ee746b', '#4a8081']  # Add more colors as needed\n",
    "\n",
    "# Assuming 'result' is your DataFrame\n",
    "plot_histograms_for_each_column(result, 'Cluster', 'original OM', color_list)"
   ]
  },
  {
   "cell_type": "code",
   "execution_count": 50,
   "metadata": {},
   "outputs": [],
   "source": [
    "def plot_histograms_for_each_column2(df, cluster_column, weight_column, color_list, reference_column):\n",
    "    num_columns = len(df.columns)\n",
    "    fig, axes = plt.subplots(nrows=1, ncols=num_columns, figsize=(15, 3.8))\n",
    "    \n",
    "    for i, column in enumerate(df.columns):\n",
    "        sns.histplot(x=df[cluster_column], weights=df[column], discrete=True,\n",
    "                     color=color_list[i], edgecolor=color_list[i],\n",
    "                     kde=True, kde_kws={'cut': 0.5}, line_kws={'linewidth':3},\n",
    "                     ax=axes[i])\n",
    "        axes[i].set_title(column, fontsize=20, color=color_list[i], fontweight='bold')\n",
    "        axes[i].set_ylabel('relative Häufigkeit (%)', fontsize=17)\n",
    "        axes[i].set_ylim(0,30)\n",
    "        \n",
    "        axes[i].yaxis.set_major_locator(MultipleLocator(10))\n",
    "        \n",
    "        # Set font sizes for labels\n",
    "        axes[i].tick_params(axis='x', labelsize=15)\n",
    "        axes[i].tick_params(axis='y', labelsize=15)\n",
    "        axes[i].set_xlabel('Verbrauchszustand', fontsize=17)  # Change 'Your X Label' as needed\n",
    "        \n",
    "        # Perform KS test\n",
    "        ks_statistic, p_value = ks_2samp(df[column], reference_distribution)\n",
    "        axes[i].text(0.5, 0.9, f'KS Statistic: {ks_statistic:.2f}\\nP-value: {p_value:.4f}',\n",
    "                     horizontalalignment='right', verticalalignment='center',\n",
    "                     transform=axes[i].transAxes)    \n",
    "    \n",
    "    plt.tight_layout()\n",
    "    plt.show()\n",
    "\n",
    "# Define your color list\n",
    "color_list = ['#d55e00', '#ee746b', '#4a8081', 'tab:blue']  # Add more colors as needed"
   ]
  },
  {
   "cell_type": "code",
   "execution_count": 51,
   "metadata": {},
   "outputs": [
    {
     "data": {
      "image/png": "[encoded data removed]",
      "text/plain": [
       "<Figure size 1080x273.6 with 4 Axes>"
      ]
     },
     "metadata": {
      "needs_background": "light"
     },
     "output_type": "display_data"
    }
   ],
   "source": [
    "reference_distribution = results2['original OM']\n",
    "\n",
    "result_cols = ['synDDPM', 'synWGAN', 'original OM']\n",
    "results2 = (result[result_cols] / column_sums[result_cols].values) * 100\n",
    "results2['Cluster'] = result['Cluster']\n",
    "\n",
    "plot_histograms_for_each_column2(results2, 'Cluster', 'original OM', color_list, 'original OM')"
   ]
  }
 ],
 "metadata": {
  "kernelspec": {
   "display_name": "SYLAS",
   "language": "python",
   "name": "python3"
  },
  "language_info": {
   "codemirror_mode": {
    "name": "ipython",
    "version": 3
   },
   "file_extension": ".py",
   "mimetype": "text/x-python",
   "name": "python",
   "nbconvert_exporter": "python",
   "pygments_lexer": "ipython3",
   "version": "3.9.12"
  }
 },
 "nbformat": 4,
 "nbformat_minor": 2
}
