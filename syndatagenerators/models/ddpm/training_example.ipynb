{
 "cells": [
  {
   "cell_type": "markdown",
   "metadata": {},
   "source": [
    "# Imports"
   ]
  },
  {
   "cell_type": "code",
   "execution_count": 11,
   "metadata": {},
   "outputs": [],
   "source": [
    "# when running into problems with modules not being found\n",
    "#add the path to the repo to the python path \n",
    "# via the following two lines\n",
    "import sys\n",
    "sys.path.append('/home/npopkov/syndatagenerators') # <---path to the repo\n",
    "\n",
    "import random\n",
    "import numpy as np\n",
    "import torch\n",
    "import time\n",
    "from torch.utils.data import DataLoader\n",
    "from syndatagenerators.models.ddpm.utils.DiffusionUtilities import DiffusionUtilities\n",
    "from syndatagenerators.models.ddpm.architectures.UNetPredictor2 import UNet_conditional\n",
    "from syndatagenerators.models.ddpm.utils.Trainer import Trainer\n",
    "from syndatagenerators.models.ddpm.utils.Generator import Generator\n",
    "from syndatagenerators.models.ddpm.utils.dataprep_utils import create_OM_datastore,read_multiple_households_df,OMCondDataset, getWeekPeriodicEmbedding,getYearPeriodicEmbedding\n",
    "from syndatagenerators.models.ddpm.utils.utils import createDirs, saveConditionsTxt\n",
    "from syndatagenerators.models.ddpm.utils.experiments import evalModel_cond_multivar"
   ]
  },
  {
   "cell_type": "markdown",
   "metadata": {},
   "source": [
    "# hyperparams and util initializations"
   ]
  },
  {
   "cell_type": "code",
   "execution_count": 12,
   "metadata": {},
   "outputs": [
    {
     "name": "stdout",
     "output_type": "stream",
     "text": [
      "TAG: 2024-06-28-1607-200-32-1e-06-0.02-20\n",
      "Using device: cpu\n",
      "[Errno 17] File exists: '/home/npopkov/syndatagenerators/syndatagenerators/models/ddpm/experiments/live_demo'\n",
      "[Errno 17] File exists: '/home/npopkov/syndatagenerators/syndatagenerators/models/ddpm/experiments/live_demo'\n",
      "[Errno 17] File exists: '/home/npopkov/syndatagenerators/syndatagenerators/models/ddpm/experiments/live_demo/2024-06-28-1607-200-32-1e-06-0.02-20'\n",
      "Store path: /home/npopkov/syndatagenerators/syndatagenerators/models/ddpm/experiments/live_demo/2024-06-28-1607-200-32-1e-06-0.02-20/\n"
     ]
    }
   ],
   "source": [
    "# initialize seed-----------------------------------------------\n",
    "SEED = 17\n",
    "random.seed(SEED)\n",
    "np.random.seed(SEED)\n",
    "torch.manual_seed(SEED)\n",
    "# --------------------------------------------------------------\n",
    "\n",
    "# hyperparam init-----------------------------------------------\n",
    "batch_size = 32\n",
    "n_epochs = 20\n",
    "lr = 3e-4\n",
    "n_steps, betaMin, betaMax = 200, 10**-6, 0.02\n",
    "seq_len= 96\n",
    "# --------------------------------------------------------------\n",
    "\n",
    "# setting values for better saving -----------------------------------------------------\n",
    "TIME = time.strftime('%Y-%m-%d-%H%M', time.localtime())\n",
    "NAME = f'{n_steps}-{batch_size}-{betaMin}-{betaMax}-{n_epochs}'\n",
    "TAG = f'{TIME}-{NAME}'\n",
    "print(f'TAG: {TAG}')\n",
    "# ---------------------------------------------------------------------------------------\n",
    "\n",
    "# setting device -----------------------------------------------------------------------\n",
    "device = torch.device('cuda:0' if torch.cuda.is_available() else 'cpu')\n",
    "print(f'Using device: {device}')\n",
    "# ---------------------------------------------------------------------------------------\n",
    "\n",
    "# create directorys --------------------------------------------------------------------\n",
    "key = \"live_demo\"\n",
    "current_path = f'/home/npopkov/syndatagenerators/syndatagenerators/models/ddpm/experiments/'\n",
    "store_path = f'{current_path}{key}/{TAG}/'\n",
    "createDirs(key,TAG,current_path)\n",
    "print(f'Store path: {store_path}')\n",
    "# ---------------------------------------------------------------------------------------"
   ]
  },
  {
   "cell_type": "markdown",
   "metadata": {},
   "source": [
    "# Loading the dataset from an HDF file\n",
    "We read in the hdf file and then create a dataframe which can be used to create the final training/test datasets and ultimatly dataloaders."
   ]
  },
  {
   "cell_type": "code",
   "execution_count": 13,
   "metadata": {},
   "outputs": [
    {
     "name": "stdout",
     "output_type": "stream",
     "text": [
      "HDF file contains following information:['w' 't2m' 'sensor_id' 'cluster_id']\n"
     ]
    },
    {
     "data": {
      "application/vnd.jupyter.widget-view+json": {
       "model_id": "90280e5417904d9ea453476d9305c4d9",
       "version_major": 2,
       "version_minor": 0
      },
      "text/plain": [
       "  0%|          | 0/9 [00:00<?, ?it/s]"
      ]
     },
     "metadata": {},
     "output_type": "display_data"
    }
   ],
   "source": [
    "hdf = create_OM_datastore(hdf_file='/20240119_OM_privat-19-02.h5')\n",
    "keys = hdf.keys()[:10]\n",
    "print(f'HDF file contains following information:{hdf[keys[0]].keys().values}')\n",
    "number_ids = len(keys)\n",
    "df = read_multiple_households_df(keys,hdf)\n",
    "hdf.close()"
   ]
  },
  {
   "cell_type": "markdown",
   "metadata": {},
   "source": [
    "# Choose what categorical and continual features should be used from your dataset.\n",
    "F.e. our dataset has the columns `\"sensor_id\"` for categorical and `\"week\",\"year\"` as continual conditions. At the end this information is saved to a txt file.\n",
    "\"week\" and \"year\" are datetime information encoded as sin/cos values when applied for a week or a year."
   ]
  },
  {
   "cell_type": "code",
   "execution_count": 14,
   "metadata": {},
   "outputs": [],
   "source": [
    "cats = [\"sensor_id\"]\n",
    "conts = [\"week\",\"year\"]\n",
    "\n",
    "saveConditionsTxt(store_path,cats,conts)"
   ]
  },
  {
   "cell_type": "code",
   "execution_count": 15,
   "metadata": {},
   "outputs": [],
   "source": [
    "#custom dataset class for the OpenMeter dataset\n",
    "#for your own dataset you need to create a similar class and adjust the implementation\n",
    "dataset = OMCondDataset(df=df,\n",
    "                        seq_len=seq_len,\n",
    "                        cat_conditions=cats,\n",
    "                        cont_conditions=conts,)\n",
    "\n",
    "# split data for train and test (80/20)\n",
    "train_ds , test_ds = torch.utils.data.random_split(dataset,[0.8,0.2])\n",
    "\n",
    "#tweek the size of the test batch here\n",
    "test_batch_size = int(len(test_ds)/500)*50\n",
    "\n",
    "train_loader = DataLoader(dataset=train_ds,\n",
    "                        batch_size=batch_size, \n",
    "                        shuffle=True,\n",
    "                        drop_last=True)\n",
    "\n",
    "test_loader = DataLoader(dataset=test_ds, \n",
    "                         batch_size=test_batch_size, \n",
    "                         shuffle=False,\n",
    "                         drop_last=True)\n",
    "\n",
    "# pulling a sample from the test dataset for later use\n",
    "# it consists of categorical and continuous conditions and the corresponding time series\n",
    "sample_cat, sample_cont, sample = next(iter(test_loader))"
   ]
  },
  {
   "cell_type": "markdown",
   "metadata": {},
   "source": [
    "# Now we initialize the models and util classes"
   ]
  },
  {
   "cell_type": "code",
   "execution_count": 16,
   "metadata": {},
   "outputs": [
    {
     "name": "stderr",
     "output_type": "stream",
     "text": [
      "/home/npopkov/.local/lib/python3.10/site-packages/torch/cuda/amp/grad_scaler.py:125: UserWarning: torch.cuda.amp.GradScaler is enabled, but CUDA is not available.  Disabling.\n",
      "  warnings.warn(\n"
     ]
    }
   ],
   "source": [
    "# the neural network part of the ddpm that predicts the noise\n",
    "network = UNet_conditional(n_steps= n_steps,\n",
    "                           c_in=1,\n",
    "                           c_out=1,\n",
    "                           num_classes= [18],\n",
    "                           num_cont = dataset.num_cont,\n",
    "                           device=device)\n",
    "\n",
    "# the ddpm class that combines the network and many mathematical operations needed to perform denoising\n",
    "ddpm = DiffusionUtilities(network=network.to(device),\n",
    "                          size=seq_len,\n",
    "                          betaMin=betaMin,\n",
    "                          betaMax=betaMax,\n",
    "                          n_steps=n_steps,\n",
    "                          device=device)\n",
    "\n",
    "# trainer util class that trains the ddpm\n",
    "trainer = Trainer(ddpm=ddpm,\n",
    "                  loader=train_loader,\n",
    "                  batch_size=batch_size,\n",
    "                  train_size=seq_len,\n",
    "                  n_epochs=n_epochs,\n",
    "                  lr=lr,\n",
    "                  store_path=store_path,\n",
    "                  device=device,\n",
    "                  tag=TAG,\n",
    "                  household=key)\n",
    "\n",
    "# generator util class that generates samples from the ddpm, especially useful for evaluation\n",
    "generator = Generator(model=ddpm,\n",
    "                      train_dataset=train_ds,\n",
    "                      n_steps=n_steps,\n",
    "                      device=device,\n",
    "                      tag=TAG)"
   ]
  },
  {
   "cell_type": "markdown",
   "metadata": {},
   "source": [
    "# Start training using the Trainer class"
   ]
  },
  {
   "cell_type": "code",
   "execution_count": 17,
   "metadata": {},
   "outputs": [],
   "source": [
    "#trainer.train_ddpm()"
   ]
  },
  {
   "cell_type": "markdown",
   "metadata": {},
   "source": [
    "# Evaluate the model\n",
    "This method generates a batch of synthetic data and compares the results using different metrics proposed in this project"
   ]
  },
  {
   "cell_type": "code",
   "execution_count": 18,
   "metadata": {},
   "outputs": [],
   "source": [
    "# evalModel_cond_multivar(sample=sample,\n",
    "#                         test_batch_size=test_batch_size,\n",
    "#                         network=network,\n",
    "#                         generator=generator,\n",
    "#                         device=device,\n",
    "#                         train_size=seq_len,\n",
    "#                         gen_size=seq_len,\n",
    "#                         store_path=store_path,\n",
    "#                         cats=sample_cat,\n",
    "#                         conts=sample_cont,)"
   ]
  },
  {
   "cell_type": "code",
   "execution_count": 19,
   "metadata": {},
   "outputs": [],
   "source": [
    "store_path = '/home/npopkov/syndatagenerators/syndatagenerators/models/ddpm/experiments/web_expert_tests/2024-06-26-2138-200-32-1e-06-0.02-25/'"
   ]
  },
  {
   "cell_type": "code",
   "execution_count": 20,
   "metadata": {},
   "outputs": [],
   "source": [
    "from syndatagenerators.models.ddpm.utils.utils import loadModel\n",
    "loadModel(model=generator.ddpm.network, path=f'{store_path}network.pt')"
   ]
  },
  {
   "cell_type": "markdown",
   "metadata": {},
   "source": [
    "You find now various results and metrics, aswell as the generated samples from above under your store_path"
   ]
  },
  {
   "cell_type": "markdown",
   "metadata": {},
   "source": [
    "# Create a single sample using categorical and continual conditions\n",
    "In the following we will use encoded household ID's to create our desired sample"
   ]
  },
  {
   "cell_type": "code",
   "execution_count": 97,
   "metadata": {},
   "outputs": [
    {
     "name": "stdout",
     "output_type": "stream",
     "text": [
      "This is our list of household IDs: ['/001dce72-b1c1-44b1-bf16-0c22cfe3a420', '/00a3c3e4-bf1f-4c0b-9e18-8bc60e66575d', '/0252a8f5-9913-47bb-a70f-c86e5c69f71a', '/026ed97d-d51e-489a-898e-6547d6f569f2', '/02a7475b-9007-4aef-a265-b38bbdbbec32', '/0358067f-cd41-4d91-ba9e-91405fbfc704', '/037d3c0e-2c33-4705-a6a4-778ce0858c85', '/04b1dc78-587d-4837-978e-ac288a2b480c', '/0670c6d3-ba11-476c-aac5-c63e399e27c3', '/06d1421b-265b-4a13-a39f-6df00dbf92a6']\n",
      "Those keys where lable encoded so we have [10] households in total to choose from\n",
      "If we want to choose the 2. key in the list /00a3c3e4-bf1f-4c0b-9e18-8bc60e66575d we would have to use the label 1\n"
     ]
    }
   ],
   "source": [
    "desired_key = 2\n",
    "print(f\"This is our list of household IDs: {keys}\")\n",
    "print(f\"Those keys where lable encoded so we have {dataset.lens_cat_conditions} households in total to choose from\")\n",
    "print(f\"If we want to choose the {desired_key}. key in the list {keys[desired_key-1]} we would have to use the label {desired_key-1}\")"
   ]
  },
  {
   "cell_type": "code",
   "execution_count": 98,
   "metadata": {},
   "outputs": [
    {
     "name": "stdout",
     "output_type": "stream",
     "text": [
      "torch.Size([1, 1])\n"
     ]
    }
   ],
   "source": [
    "household_id = desired_key - 1 #because you should always start counting at 0 \n",
    "categorical_cond = torch.tensor([household_id]).unsqueeze(0)\n",
    "print(categorical_cond.shape)"
   ]
  },
  {
   "cell_type": "markdown",
   "metadata": {},
   "source": [
    "Continual conditions are created using datetime informationen which is then converted into an sin/cos representation that can be understood by our model"
   ]
  },
  {
   "cell_type": "code",
   "execution_count": 99,
   "metadata": {},
   "outputs": [
    {
     "name": "stdout",
     "output_type": "stream",
     "text": [
      "torch.Size([1, 4])\n"
     ]
    }
   ],
   "source": [
    "import pandas as pd\n",
    "#created a one day date range with 15 minute intervals\n",
    "desired_date = pd.date_range(start=f\"{2021}-01-01 00:00:00\", end=f\"{2021}-01-01 23:45:00\", freq='0.25H')\n",
    "\n",
    "#embed the date into the periodic sin/cos space\n",
    "week = getWeekPeriodicEmbedding(desired_date)\n",
    "year = getYearPeriodicEmbedding(desired_date)\n",
    "\n",
    "continual_cond = torch.cat([torch.from_numpy(week),torch.from_numpy(year)],dim=1).float()[0,:].unsqueeze(0)\n",
    "print(continual_cond.shape)"
   ]
  },
  {
   "cell_type": "markdown",
   "metadata": {},
   "source": [
    "Now we can generate one sample with the length of one day"
   ]
  },
  {
   "cell_type": "code",
   "execution_count": 122,
   "metadata": {},
   "outputs": [],
   "source": [
    "synthetic_data = generator.generate_one_cond_sample(cat=categorical_cond, \n",
    "                                                    cont=continual_cond,\n",
    "                                                    seq_len=seq_len)"
   ]
  },
  {
   "cell_type": "code",
   "execution_count": 123,
   "metadata": {},
   "outputs": [
    {
     "data": {
      "image/png": "[encoded data removed]",
      "text/plain": [
       "<Figure size 640x480 with 1 Axes>"
      ]
     },
     "metadata": {},
     "output_type": "display_data"
    }
   ],
   "source": [
    "import matplotlib.pyplot as plt \n",
    "retransformed_data = synthetic_data * dataset.max\n",
    "\n",
    "plt.plot(np.arange(0,24,0.25),retransformed_data.squeeze().cpu().detach().numpy(),linewidth=2,c='teal')\n",
    "plt.xlabel('Hour of the day')\n",
    "plt.ylabel('Energy consumption in W')\n",
    "plt.show()"
   ]
  }
 ],
 "metadata": {
  "kernelspec": {
   "display_name": "Python 3",
   "language": "python",
   "name": "python3"
  },
  "language_info": {
   "codemirror_mode": {
    "name": "ipython",
    "version": 3
   },
   "file_extension": ".py",
   "mimetype": "text/x-python",
   "name": "python",
   "nbconvert_exporter": "python",
   "pygments_lexer": "ipython3",
   "version": "3.10.12"
  }
 },
 "nbformat": 4,
 "nbformat_minor": 2
}
