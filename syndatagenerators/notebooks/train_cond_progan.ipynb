{
 "cells": [
  {
   "cell_type": "markdown",
   "metadata": {
    "collapsed": true,
    "pycharm": {
     "name": "#%% md\n"
    }
   },
   "source": [
    "# Training of the Conditional ProGAN - Example"
   ]
  },
  {
   "cell_type": "markdown",
   "source": [
    "### imports:"
   ],
   "metadata": {
    "collapsed": false,
    "pycharm": {
     "name": "#%% md\n"
    }
   }
  },
  {
   "cell_type": "code",
   "execution_count": 7,
   "outputs": [],
   "source": [
    "import os\n",
    "import yaml\n",
    "\n",
    "import pytorch_lightning as pl\n",
    "from pytorch_lightning.callbacks import EarlyStopping, ModelCheckpoint\n",
    "from torch.utils.data import DataLoader, random_split\n",
    "\n",
    "from syndatagenerators.models.progressive_gan.trainer import TrainerProGAN\n",
    "from syndatagenerators.models.cond_progressive_gan.trainer import TrainerCPGAN\n",
    "from syndatagenerators.models.utils.callbacks import DiscriminativeCallback, MMDCallback, ACFCallback\n",
    "from syndatagenerators.data_preparation.datasets import LondonDataset"
   ],
   "metadata": {
    "collapsed": false,
    "pycharm": {
     "name": "#%%\n"
    }
   }
  },
  {
   "cell_type": "markdown",
   "source": [
    "### define paths, household ID's, configuration"
   ],
   "metadata": {
    "collapsed": false,
    "pycharm": {
     "name": "#%% md\n"
    }
   }
  },
  {
   "cell_type": "markdown",
   "source": [
    "#### directories for training data, checkpoints, and the configuration file"
   ],
   "metadata": {
    "collapsed": false,
    "pycharm": {
     "name": "#%% md\n"
    }
   }
  },
  {
   "cell_type": "code",
   "execution_count": 2,
   "outputs": [],
   "source": [
    "# define directory where train data is saved\n",
    "TRAIN_DATA_DIR = '../train_data'\n",
    "# directory where model is saved/loaded from\n",
    "CKPT_DIR = '../ckpt/'\n",
    "# path to configuration file\n",
    "CONFIG_PATH = '../models/progressive_gan/config.yml'"
   ],
   "metadata": {
    "collapsed": false,
    "pycharm": {
     "name": "#%%\n"
    }
   }
  },
  {
   "cell_type": "markdown",
   "source": [
    "#### household ID's used for training"
   ],
   "metadata": {
    "collapsed": false,
    "pycharm": {
     "name": "#%% md\n"
    }
   }
  },
  {
   "cell_type": "code",
   "execution_count": 3,
   "outputs": [],
   "source": [
    "N_HOUSEHOLDS = 100 # needs to be in range (1, n_ids) TODO: check n_ids\n",
    "# asset lists (of London Smart Meter)\n",
    "list_assets = ['MAC' + str(i).zfill(6) for i in range(2, 100)]"
   ],
   "metadata": {
    "collapsed": false,
    "pycharm": {
     "name": "#%%\n"
    }
   }
  },
  {
   "cell_type": "markdown",
   "source": [
    "#### load parameters for the model"
   ],
   "metadata": {
    "collapsed": false,
    "pycharm": {
     "name": "#%% md\n"
    }
   }
  },
  {
   "cell_type": "code",
   "execution_count": 4,
   "outputs": [],
   "source": [
    "config = yaml.safe_load(open(CONFIG_PATH, 'r'))\n",
    "train_params = config['train_params']\n",
    "dis_params = config['dis_params']\n",
    "gen_params = config['gen_params']"
   ],
   "metadata": {
    "collapsed": false,
    "pycharm": {
     "name": "#%%\n"
    }
   }
  },
  {
   "cell_type": "markdown",
   "source": [
    "#### initialize the model and the London Smart Meter Dataset"
   ],
   "metadata": {
    "collapsed": false,
    "pycharm": {
     "name": "#%% md\n"
    }
   }
  },
  {
   "cell_type": "code",
   "execution_count": 5,
   "outputs": [
    {
     "name": "stdout",
     "output_type": "stream",
     "text": [
      "Train data saved\n"
     ]
    }
   ],
   "source": [
    "nb_cls = len(list_assets)\n",
    "\n",
    "model = TrainerCPGAN(train_params=train_params, dis_params=dis_params, gen_params=gen_params, nb_classes=nb_cls)\n",
    "\n",
    "# dataset: takes some time to initialize if train data has not been loaded before\n",
    "dataset = LondonDataset(assets=list_assets,     window_length=config['data_params']['window_len'],\n",
    "                            overlap=config['data_params']['overlap'], train_data_dir=TRAIN_DATA_DIR,\n",
    "                            labels=True)"
   ],
   "metadata": {
    "collapsed": false,
    "pycharm": {
     "name": "#%%\n"
    }
   }
  },
  {
   "cell_type": "markdown",
   "source": [
    "#### split in training and validation: for the moment, randomly, this would need to be adjusted"
   ],
   "metadata": {
    "collapsed": false,
    "pycharm": {
     "name": "#%% md\n"
    }
   }
  },
  {
   "cell_type": "code",
   "execution_count": 6,
   "outputs": [],
   "source": [
    "# split into train and validation set\n",
    "dataset_train, dataset_val = random_split(dataset, [len(dataset) - 1000, 1000])\n",
    "\n",
    "# dataloaders for training and validation\n",
    "loader_train = DataLoader(dataset_train, batch_size=config['train_params']['batch_size'], shuffle=True,\n",
    "                          num_workers=8)\n",
    "loader_val = DataLoader(dataset_val, batch_size=len(dataset_val), shuffle=False)"
   ],
   "metadata": {
    "collapsed": false,
    "pycharm": {
     "name": "#%%\n"
    }
   }
  },
  {
   "cell_type": "markdown",
   "source": [
    "#### define relevant Callbacks to be used during training"
   ],
   "metadata": {
    "collapsed": false,
    "pycharm": {
     "name": "#%% md\n"
    }
   }
  },
  {
   "cell_type": "code",
   "execution_count": 9,
   "outputs": [],
   "source": [
    "FILENAME = f'{model.__class__.__name__}_{model.name}'\n",
    "\n",
    "# callback that calculates MMD every ith epoch\n",
    "mmd_callback = MMDCallback(size=1000)\n",
    "\n",
    "# callback that calculates discriminative score using an LSTM\n",
    "discriminative_callback = DiscriminativeCallback(size=1000)\n",
    "\n",
    "# callback for early stopping using MMD\n",
    "early_stopping_callback = EarlyStopping('mmd', patience=4)\n",
    "\n",
    "# checkpoint callback\n",
    "checkpoint_callback = ModelCheckpoint(dirpath=CKPT_DIR, filename=FILENAME, every_n_epochs=10)"
   ],
   "metadata": {
    "collapsed": false,
    "pycharm": {
     "name": "#%%\n"
    }
   }
  },
  {
   "cell_type": "markdown",
   "source": [
    "#### initialize the trainer"
   ],
   "metadata": {
    "collapsed": false,
    "pycharm": {
     "name": "#%% md\n"
    }
   }
  },
  {
   "cell_type": "code",
   "execution_count": 10,
   "outputs": [
    {
     "name": "stderr",
     "output_type": "stream",
     "text": [
      "GPU available: False, used: False\n",
      "TPU available: False, using: 0 TPU cores\n",
      "IPU available: False, using: 0 IPUs\n",
      "HPU available: False, using: 0 HPUs\n"
     ]
    }
   ],
   "source": [
    "trainer = pl.Trainer(max_epochs=config['train_params']['epochs'],\n",
    "                             callbacks=[mmd_callback, checkpoint_callback, early_stopping_callback],\n",
    "                             check_val_every_n_epoch=5)"
   ],
   "metadata": {
    "collapsed": false,
    "pycharm": {
     "name": "#%%\n"
    }
   }
  },
  {
   "cell_type": "code",
   "execution_count": null,
   "outputs": [
    {
     "name": "stderr",
     "output_type": "stream",
     "text": [
      "C:\\Users\\mjuergen\\.conda\\envs\\syndatagenerators\\lib\\site-packages\\pytorch_lightning\\trainer\\configuration_validator.py:228: LightningDeprecationWarning: The `LightningModule.on_epoch_end` hook was deprecated in v1.6 and will be removed in v1.8. Please use `LightningModule.on_<train/validation/test>_epoch_end` instead.\n",
      "  rank_zero_deprecation(\n",
      "Missing logger folder: C:\\Users\\mjuergen\\Documents\\SylasKI\\Code\\syndatagenerators\\syndatagenerators\\notebooks\\lightning_logs\n",
      "\n",
      "  | Name          | Type            | Params\n",
      "--------------------------------------------------\n",
      "0 | loss          | WGANGPLoss      | 0     \n",
      "1 | generator     | CPGenerator     | 75.7 K\n",
      "2 | discriminator | CPDiscriminator | 85.0 K\n",
      "--------------------------------------------------\n",
      "160 K     Trainable params\n",
      "0         Non-trainable params\n",
      "160 K     Total params\n",
      "0.643     Total estimated model params size (MB)\n"
     ]
    },
    {
     "data": {
      "text/plain": "Sanity Checking: 0it [00:00, ?it/s]",
      "application/vnd.jupyter.widget-view+json": {
       "version_major": 2,
       "version_minor": 0,
       "model_id": "1b131fbdbe944613aac4543c693e6134"
      }
     },
     "metadata": {},
     "output_type": "display_data"
    },
    {
     "name": "stderr",
     "output_type": "stream",
     "text": [
      "C:\\Users\\mjuergen\\.conda\\envs\\syndatagenerators\\lib\\site-packages\\pytorch_lightning\\trainer\\connectors\\data_connector.py:225: PossibleUserWarning: The dataloader, val_dataloader 0, does not have many workers which may be a bottleneck. Consider increasing the value of the `num_workers` argument` (try 8 which is the number of cpus on this machine) in the `DataLoader` init to improve performance.\n",
      "  rank_zero_warn(\n",
      "C:\\Users\\mjuergen\\.conda\\envs\\syndatagenerators\\lib\\site-packages\\pytorch_lightning\\core\\module.py:555: UserWarning: To copy construct from a tensor, it is recommended to use sourceTensor.clone().detach() or sourceTensor.clone().detach().requires_grad_(True), rather than torch.tensor(sourceTensor).\n",
      "  value = torch.tensor(value, device=self.device)\n"
     ]
    },
    {
     "name": "stdout",
     "output_type": "stream",
     "text": [
      "Depth on epoch 0: 0, residual: False\n"
     ]
    },
    {
     "data": {
      "text/plain": "Training: 0it [00:00, ?it/s]",
      "application/vnd.jupyter.widget-view+json": {
       "version_major": 2,
       "version_minor": 0,
       "model_id": "9e74f89c84934a4cbe77ca42094c1e51"
      }
     },
     "metadata": {},
     "output_type": "display_data"
    }
   ],
   "source": [
    "trainer.fit(model, loader_train, loader_val)"
   ],
   "metadata": {
    "collapsed": false,
    "pycharm": {
     "name": "#%%\n",
     "is_executing": true
    }
   }
  },
  {
   "cell_type": "code",
   "execution_count": null,
   "outputs": [],
   "source": [],
   "metadata": {
    "collapsed": false,
    "pycharm": {
     "name": "#%%\n"
    }
   }
  }
 ],
 "metadata": {
  "kernelspec": {
   "display_name": "Python 3",
   "language": "python",
   "name": "python3"
  },
  "language_info": {
   "codemirror_mode": {
    "name": "ipython",
    "version": 2
   },
   "file_extension": ".py",
   "mimetype": "text/x-python",
   "name": "python",
   "nbconvert_exporter": "python",
   "pygments_lexer": "ipython2",
   "version": "2.7.6"
  }
 },
 "nbformat": 4,
 "nbformat_minor": 0
}